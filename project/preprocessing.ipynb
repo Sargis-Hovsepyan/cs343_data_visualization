{
 "cells": [
  {
   "cell_type": "code",
   "execution_count": 1,
   "metadata": {},
   "outputs": [],
   "source": [
    "import time\n",
    "import numpy as np\n",
    "\n",
    "import pandas as pd\n",
    "import geopandas as gpd\n",
    "\n",
    "import seaborn as sns\n",
    "import matplotlib.pyplot as plt\n",
    "\n",
    "from shapely import wkt\n",
    "\n",
    "pd.set_option('display.max_columns', None)"
   ]
  },
  {
   "cell_type": "code",
   "execution_count": null,
   "metadata": {},
   "outputs": [],
   "source": [
    "df = pd.read_csv('')"
   ]
  },
  {
   "cell_type": "code",
   "execution_count": 33,
   "metadata": {},
   "outputs": [],
   "source": [
    "df = pd.read_csv('./data/raw/dubai_re_transactions.csv')\n",
    "area = gpd.read_file('./data/raw/dubai_land_areas.geojson')"
   ]
  },
  {
   "cell_type": "code",
   "execution_count": 37,
   "metadata": {},
   "outputs": [
    {
     "name": "stdout",
     "output_type": "stream",
     "text": [
      "<class 'pandas.core.frame.DataFrame'>\n",
      "RangeIndex: 1397742 entries, 0 to 1397741\n",
      "Data columns (total 27 columns):\n",
      " #   Column                Non-Null Count    Dtype         \n",
      "---  ------                --------------    -----         \n",
      " 0   transaction_id        1397742 non-null  object        \n",
      " 1   procedure_id          1397742 non-null  int64         \n",
      " 2   trans_group_id        1397742 non-null  int64         \n",
      " 3   trans_group           1397742 non-null  object        \n",
      " 4   procedure_name        1397742 non-null  object        \n",
      " 5   instance_date         1397738 non-null  datetime64[ns]\n",
      " 6   property_type_id      1397742 non-null  int64         \n",
      " 7   property_type         1397742 non-null  object        \n",
      " 8   property_sub_type_id  1099616 non-null  float64       \n",
      " 9   property_sub_type     1099616 non-null  object        \n",
      " 10  property_usage        1397742 non-null  object        \n",
      " 11  reg_type_id           1397742 non-null  int64         \n",
      " 12  reg_type              1397742 non-null  object        \n",
      " 13  area_id               1397742 non-null  int64         \n",
      " 14  area_name             1397742 non-null  object        \n",
      " 15  building_name         975673 non-null   object        \n",
      " 16  project_number        971790 non-null   float64       \n",
      " 17  project_name          971790 non-null   object        \n",
      " 18  master_project        1164073 non-null  object        \n",
      " 19  nearest_landmark      1166398 non-null  object        \n",
      " 20  nearest_metro         1016909 non-null  object        \n",
      " 21  nearest_mall          1010486 non-null  object        \n",
      " 22  rooms                 1080133 non-null  object        \n",
      " 23  has_parking           1397742 non-null  int64         \n",
      " 24  procedure_area        1397742 non-null  float64       \n",
      " 25  actual_worth          1397742 non-null  float64       \n",
      " 26  meter_sale_price      1397742 non-null  float64       \n",
      "dtypes: datetime64[ns](1), float64(5), int64(6), object(15)\n",
      "memory usage: 287.9+ MB\n"
     ]
    }
   ],
   "source": [
    "df.info()"
   ]
  },
  {
   "cell_type": "markdown",
   "metadata": {},
   "source": [
    "### 1. Removing unneccessary columns & cleaning"
   ]
  },
  {
   "cell_type": "code",
   "execution_count": 35,
   "metadata": {},
   "outputs": [],
   "source": [
    "df.drop(columns=[col for col in df.columns if col.endswith('_ar')], inplace=True)\n",
    "df.rename(columns=lambda x: x[:-3] if x.endswith('_en') else x, inplace=True)\n",
    "\n",
    "df.drop(columns=['rent_value', 'meter_rent_price', 'no_of_parties_role_1', 'no_of_parties_role_2', 'no_of_parties_role_3'], inplace=True)"
   ]
  },
  {
   "cell_type": "code",
   "execution_count": 36,
   "metadata": {},
   "outputs": [],
   "source": [
    "df['instance_date'] = pd.to_datetime(df['instance_date'], dayfirst=True, errors='coerce')"
   ]
  },
  {
   "cell_type": "code",
   "execution_count": 35,
   "metadata": {},
   "outputs": [],
   "source": [
    "df.to_csv('./data/dubai_re_transactions_adjusted.csv')"
   ]
  },
  {
   "cell_type": "markdown",
   "metadata": {},
   "source": [
    "### 2. Finding the Area Plygons"
   ]
  },
  {
   "cell_type": "code",
   "execution_count": 38,
   "metadata": {},
   "outputs": [],
   "source": [
    "df['area_name'] = df['area_name'].str.lower().str.strip()\n",
    "area['CNAME_E'] = area['CNAME_E'].str.lower().str.strip()"
   ]
  },
  {
   "cell_type": "code",
   "execution_count": 39,
   "metadata": {},
   "outputs": [],
   "source": [
    "area = area[area['CNAME_E'].isin(df['area_name'])]"
   ]
  },
  {
   "cell_type": "code",
   "execution_count": 130,
   "metadata": {},
   "outputs": [],
   "source": [
    "area.to_file('./data/dubai_transactions_land_area.geojson', driver='GeoJSON')"
   ]
  },
  {
   "cell_type": "markdown",
   "metadata": {},
   "source": [
    "### 2. Making Columns Convenient to Work With "
   ]
  },
  {
   "cell_type": "code",
   "execution_count": 14,
   "metadata": {},
   "outputs": [],
   "source": [
    "df = pd.read_csv('./data/dubai_re_transactions_adjusted.csv')"
   ]
  },
  {
   "cell_type": "code",
   "execution_count": 11,
   "metadata": {},
   "outputs": [],
   "source": [
    "df['actual_worth'] = df['actual_worth'] / 1000000\n",
    "\n",
    "df.rename(columns={'actual_worth':'actual_worth_millions'}, inplace=True)"
   ]
  },
  {
   "cell_type": "code",
   "execution_count": 13,
   "metadata": {},
   "outputs": [],
   "source": [
    "df.to_csv('./data/dubai_re_transactions_adjusted.csv', index=0)"
   ]
  },
  {
   "cell_type": "markdown",
   "metadata": {},
   "source": [
    "### 3. Extracting Valuable Aggregation"
   ]
  },
  {
   "cell_type": "code",
   "execution_count": 22,
   "metadata": {},
   "outputs": [],
   "source": [
    "df = pd.read_csv('./data/processed/dubai_re_transactions_adjusted.csv')"
   ]
  },
  {
   "cell_type": "code",
   "execution_count": 31,
   "metadata": {},
   "outputs": [],
   "source": [
    "total_worth_per_area  = df.groupby([\"area_id\", \"geometry\"])[\"actual_worth_millions\"].sum().reset_index()\n",
    "\n",
    "\n",
    "total_worth_per_area['geometry'] = total_worth_per_area['geometry'].apply(lambda geom: wkt.loads(geom) if isinstance(geom, str) else None)\n",
    "total_worth_per_area = gpd.GeoDataFrame(total_worth_per_area, geometry='geometry', crs='EPSG:4326')"
   ]
  },
  {
   "cell_type": "code",
   "execution_count": 32,
   "metadata": {},
   "outputs": [],
   "source": [
    "total_worth_per_area.to_file('./data/processed/total_worth_per_area.geojson')"
   ]
  },
  {
   "cell_type": "code",
   "execution_count": null,
   "metadata": {},
   "outputs": [],
   "source": []
  }
 ],
 "metadata": {
  "kernelspec": {
   "display_name": "Python 3",
   "language": "python",
   "name": "python3"
  },
  "language_info": {
   "codemirror_mode": {
    "name": "ipython",
    "version": 3
   },
   "file_extension": ".py",
   "mimetype": "text/x-python",
   "name": "python",
   "nbconvert_exporter": "python",
   "pygments_lexer": "ipython3",
   "version": "3.11.2"
  }
 },
 "nbformat": 4,
 "nbformat_minor": 2
}
